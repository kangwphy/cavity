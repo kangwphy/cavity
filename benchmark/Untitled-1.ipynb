{
 "cells": [
  {
   "cell_type": "code",
   "execution_count": 8,
   "metadata": {},
   "outputs": [
    {
     "data": {
      "text/plain": [
       "getHy (generic function with 1 method)"
      ]
     },
     "metadata": {},
     "output_type": "display_data"
    }
   ],
   "source": [
    "# include(\"subfun.jl\")\n",
    "\n",
    "function getHx(phi,Lx,Ly,PBCx,PBCy)\n",
    "    N = Lx*Ly\n",
    "    H = zeros(N,N) + 0im* zeros(N,N)\n",
    "    t=1\n",
    "    for x in 1:Lx\n",
    "        for y in 1:Ly\n",
    "            H[mapto1D(x,y),mapto1D(rem(x,Lx)+1,y)] = -t*exp(1im*phi*(y-1))\n",
    "            # H[mapto1D(x,y),mapto1D(x,rem(y,Ly)+1)] = -t\n",
    "            if x==Lx && !PBCx\n",
    "                H[mapto1D(x,y),mapto1D(rem(x,Lx)+1,y)] = 0\n",
    "            end\n",
    "            # if y==Ly && !PBCy\n",
    "            #     H[mapto1D(x,y),mapto1D(x,rem(y,Ly)+1)] = 0\n",
    "            # end\n",
    "        end\n",
    "    end\n",
    "    H = H + transpose(conj(H))\n",
    "    return H\n",
    "end\n",
    "\n",
    "function getHy(phi,Lx,Ly,PBCx,PBCy)\n",
    "    N = Lx*Ly\n",
    "    H = zeros(N,N) + 0im* zeros(N,N)\n",
    "    t=1\n",
    "    for x in 1:Lx\n",
    "        for y in 1:Ly\n",
    "            # H[mapto1D(x,y),mapto1D(rem(x,Lx)+1,y)] = -t*exp(1im*phi*(y-1))\n",
    "            H[mapto1D(x,y),mapto1D(x,rem(y,Ly)+1)] = -t\n",
    "            # if x==Lx && !PBCx\n",
    "            #     H[mapto1D(x,y),mapto1D(rem(x,Lx)+1,y)] = 0\n",
    "            # end\n",
    "            if y==Ly && !PBCy\n",
    "                H[mapto1D(x,y),mapto1D(x,rem(y,Ly)+1)] = 0\n",
    "            end\n",
    "        end\n",
    "    end\n",
    "    H = H + transpose(conj(H))\n",
    "    return H\n",
    "end\n",
    "\n"
   ]
  },
  {
   "cell_type": "code",
   "execution_count": 19,
   "metadata": {},
   "outputs": [
    {
     "name": "stdout",
     "output_type": "stream",
     "text": [
      "E0 = (sum(E[idxs]) * 2) / N = -1.4235787143908936\n",
      "(Ex * 2) / N = -0.7117893571954477 + 6.303226931549602e-18im\n",
      "(Ey * 2) / N = -0.7117893571954474 - 4.220117875885924e-18im\n",
      "((Ex + Ey) * 2) / N = -1.4235787143908951 + 2.0831090556636783e-18im\n"
     ]
    },
    {
     "data": {
      "text/plain": [
       "-1.4235787143908951 + 2.0831090556636783e-18im"
      ]
     },
     "metadata": {},
     "output_type": "display_data"
    }
   ],
   "source": [
    "\n",
    "\n",
    "L = 4\n",
    "g = 1\n",
    "t = 1\n",
    "Lx = L\n",
    "Ly = L\n",
    "PBCx = false\n",
    "PBCy = false\n",
    "N = Lx*Ly\n",
    "beta = L\n",
    "Hx = getHx(sqrt(2/(Lx*Ly)),Lx,Ly,PBCx,PBCy)\n",
    "Hy = getHy(sqrt(2/(Lx*Ly)),Lx,Ly,PBCx,PBCy)\n",
    "H = Hx + Hy\n",
    "# H = getHx(1,Lx,Ly,PBCx,PBCy) + getHy(1,Lx,Ly,PBCx,PBCy)\n",
    "\n",
    "E,ev = eigen(H)\n",
    "idxs = findall(x -> x < 0, real(E))\n",
    "@show E0 = sum(E[idxs])*2/N\n",
    "\n",
    "psi = ev[:,idxs]\n",
    "Ex = sum(diag(psi'*Hx*psi))\n",
    "Ey = sum(diag(psi'*Hy*psi))\n",
    "\n",
    "@show Ex*2/N\n",
    "@show Ey*2/N\n",
    "@show (Ex+Ey)*2/N"
   ]
  }
 ],
 "metadata": {
  "kernelspec": {
   "display_name": "Julia 1.11.2",
   "language": "julia",
   "name": "julia-1.11"
  },
  "language_info": {
   "file_extension": ".jl",
   "mimetype": "application/julia",
   "name": "julia",
   "version": "1.11.2"
  }
 },
 "nbformat": 4,
 "nbformat_minor": 2
}
